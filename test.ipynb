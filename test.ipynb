{
 "cells": [
  {
   "cell_type": "code",
   "execution_count": 2,
   "id": "4aa1241e",
   "metadata": {},
   "outputs": [],
   "source": [
    "# load with pkl\n",
    "import pickle\n",
    "with open('lattice_const_dict.pkl', 'rb') as f:\n",
    "    lattice_const_dict2 = pickle.load(f)\n",
    "\n",
    "with open('ref_lat_const_node.pkl', 'rb') as f:\n",
    "    ref_lat_const_node2 = pickle.load(f)"
   ]
  },
  {
   "cell_type": "code",
   "execution_count": 9,
   "id": "f14fde61",
   "metadata": {},
   "outputs": [
    {
     "data": {
      "text/plain": [
       "PosixPath('nodes/ref-data/lattice-constant-ref/LatticeConst-ref/ref.json')"
      ]
     },
     "execution_count": 9,
     "metadata": {},
     "output_type": "execute_result"
    }
   ],
   "source": [
    "ref_lat_const_node2.output_path"
   ]
  },
  {
   "cell_type": "code",
   "execution_count": 3,
   "id": "503d7995",
   "metadata": {},
   "outputs": [
    {
     "data": {
      "text/plain": [
       "4.082"
      ]
     },
     "execution_count": 3,
     "metadata": {},
     "output_type": "execute_result"
    }
   ],
   "source": [
    "lattice_const_dict2['Ag']['mace_mp_0b3_D3'].get_lattice_const"
   ]
  },
  {
   "cell_type": "code",
   "execution_count": null,
   "id": "1ab3d438",
   "metadata": {},
   "outputs": [
    {
     "data": {
      "text/plain": [
       "{'Ag': 4.082,\n",
       " 'Pd': 3.891,\n",
       " 'Rh': 3.76,\n",
       " 'Li': 3.352,\n",
       " 'Na': 4.107,\n",
       " 'K': 5.191,\n",
       " 'Rb': 5.572,\n",
       " 'Cs': 6.106,\n",
       " 'Ca': 5.463,\n",
       " 'Sr': 5.908,\n",
       " 'Ba': 4.976,\n",
       " 'Al': 4.002,\n",
       " 'LiF': 3.995,\n",
       " 'NaF': 4.619,\n",
       " 'NaCl': 5.585,\n",
       " 'MgO': 4.203,\n",
       " 'Si': 5.434,\n",
       " 'Ge': 5.719,\n",
       " 'GaAs': 5.69,\n",
       " 'Cu': 3.568,\n",
       " 'C': 3.562,\n",
       " 'LiCl': 5.056,\n",
       " 'SiC(a)': 3.072,\n",
       " 'SiC(c)': 5.029}"
      ]
     },
     "execution_count": 4,
     "metadata": {},
     "output_type": "execute_result"
    }
   ],
   "source": [
    "ref_lat_const_node2.get_ref"
   ]
  },
  {
   "cell_type": "code",
   "execution_count": null,
   "id": "ee409fb1",
   "metadata": {},
   "outputs": [],
   "source": []
  }
 ],
 "metadata": {
  "kernelspec": {
   "display_name": ".venv",
   "language": "python",
   "name": "python3"
  },
  "language_info": {
   "codemirror_mode": {
    "name": "ipython",
    "version": 3
   },
   "file_extension": ".py",
   "mimetype": "text/x-python",
   "name": "python",
   "nbconvert_exporter": "python",
   "pygments_lexer": "ipython3",
   "version": "3.12.9"
  }
 },
 "nbformat": 4,
 "nbformat_minor": 5
}
